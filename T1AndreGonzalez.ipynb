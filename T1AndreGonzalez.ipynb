{
 "cells": [
  {
   "cell_type": "markdown",
   "id": "84cf93c2",
   "metadata": {},
   "source": [
    "# Tarea 1\n",
    "\n",
    "Andre Yahir Gonzalez Cuevas"
   ]
  },
  {
   "cell_type": "markdown",
   "id": "e408f427",
   "metadata": {},
   "source": [
    "### Qué son MLOps y Cual es su importancion?"
   ]
  },
  {
   "cell_type": "markdown",
   "id": "05f8d90a",
   "metadata": {},
   "source": [
    "MLOps es el proceso de comunicacion para involucrar más a los cientificos de datos a los procesos de operacion o produccion todo esto a traves de Machine Learning.\n",
    "\n",
    "Al mejorar los procesos colaborativos de ambos sectores se puede reducir el tiempo que se toma en ciertas acciones, automatizar áreas y procesos que gastan recursos.\n",
    "\n",
    "Con la ayuda de los cientificos de datos se puede mejorar la linea de trabajo con la ayuda de modelos creados especificamente para la empresa que pueda hacer más rapida la toma de decisiones.\n",
    "\n",
    "Se tienen que tomar en cuenta ciertas cosas antes de implementarlo a todo, por ejemplo se tiene que pensar en si el Performance que se va a medir es claro y medible, considerar que este tipo de modelos requiere de mantenimiento constante, tanto cambiar los datos como si las metricas cambian con la empresa.\n",
    "\n",
    "Se tiene que tener una idea clara sobre como y para que se usaran este tipo de herramientas, no es solo crear un modelo y poner todos los datos de la empresa sin previo analisis, se necesita trabajar con todos los sectores involucrados para poder lograr una implementacion segura y buena."
   ]
  },
  {
   "cell_type": "markdown",
   "id": "4e241245",
   "metadata": {},
   "source": [
    "Bibliografía:\n",
    "\n",
    "https://odsc.medium.com/what-are-mlops-and-why-does-it-matter-8cff060d4067"
   ]
  }
 ],
 "metadata": {
  "kernelspec": {
   "display_name": "Python 3 (ipykernel)",
   "language": "python",
   "name": "python3"
  },
  "language_info": {
   "codemirror_mode": {
    "name": "ipython",
    "version": 3
   },
   "file_extension": ".py",
   "mimetype": "text/x-python",
   "name": "python",
   "nbconvert_exporter": "python",
   "pygments_lexer": "ipython3",
   "version": "3.9.7"
  }
 },
 "nbformat": 4,
 "nbformat_minor": 5
}
